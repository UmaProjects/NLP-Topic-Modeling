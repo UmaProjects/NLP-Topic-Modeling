{
 "cells": [
  {
   "cell_type": "code",
   "execution_count": 15,
   "metadata": {},
   "outputs": [],
   "source": [
    "import pandas as pd\n",
    "data=pd.read_csv('abcnews-date-text.csv')\n",
    "data_text = data[['headline_text']]\n",
    "data_text['index'] = data_text.index\n",
    "documents = data_text"
   ]
  },
  {
   "cell_type": "code",
   "execution_count": 16,
   "metadata": {},
   "outputs": [
    {
     "name": "stdout",
     "output_type": "stream",
     "text": [
      "1103663\n",
      "                                       headline_text  index\n",
      "0  aba decides against community broadcasting lic...      0\n",
      "1     act fire witnesses must be aware of defamation      1\n",
      "2     a g calls for infrastructure protection summit      2\n",
      "3           air nz staff in aust strike for pay rise      3\n",
      "4      air nz strike to affect australian travellers      4\n"
     ]
    }
   ],
   "source": [
    "print(len(documents))\n",
    "print(documents[:5])"
   ]
  },
  {
   "cell_type": "code",
   "execution_count": 17,
   "metadata": {},
   "outputs": [],
   "source": [
    "#!pip install gensim"
   ]
  },
  {
   "cell_type": "code",
   "execution_count": 18,
   "metadata": {},
   "outputs": [],
   "source": [
    "import gensim\n",
    "from gensim.utils import simple_preprocess\n",
    "from gensim.parsing.preprocessing import STOPWORDS\n",
    "from nltk.stem import WordNetLemmatizer, SnowballStemmer\n",
    "from nltk.stem.porter import *\n",
    "import numpy as np\n",
    "np.random.seed(2018)\n",
    "import nltk\n",
    "#nltk.download('wordnet')"
   ]
  },
  {
   "cell_type": "code",
   "execution_count": 19,
   "metadata": {},
   "outputs": [],
   "source": [
    "def lemmatize_stemming(text):\n",
    "    stemmer = PorterStemmer()\n",
    "    return stemmer.stem(WordNetLemmatizer().lemmatize(text, pos='v'))"
   ]
  },
  {
   "cell_type": "code",
   "execution_count": 20,
   "metadata": {},
   "outputs": [],
   "source": [
    "def preprocess(text):\n",
    "    result=[]\n",
    "    for token in gensim.utils.simple_preprocess(text):\n",
    "        if token not in gensim.parsing.preprocessing.STOPWORDS and len(token)>3:\n",
    "            result.append(lemmatize_stemming(token))\n",
    "    return result"
   ]
  },
  {
   "cell_type": "code",
   "execution_count": 21,
   "metadata": {},
   "outputs": [
    {
     "name": "stdout",
     "output_type": "stream",
     "text": [
      "original document: \n",
      "['rain', 'helps', 'dampen', 'bushfires']\n",
      "\n",
      "\n",
      " tokenized and lemmatized document: \n",
      "['rain', 'help', 'dampen', 'bushfir']\n"
     ]
    }
   ],
   "source": [
    "doc_sample=documents[documents['index']==4310].values[0][0]\n",
    "print('original document: ')\n",
    "words = []\n",
    "for word in doc_sample.split(\" \"):\n",
    "    words.append(word)\n",
    "print(words)\n",
    "print('\\n\\n tokenized and lemmatized document: ')\n",
    "print(preprocess(doc_sample))"
   ]
  },
  {
   "cell_type": "code",
   "execution_count": 22,
   "metadata": {},
   "outputs": [
    {
     "data": {
      "text/plain": [
       "0               [decid, commun, broadcast, licenc]\n",
       "1                               [wit, awar, defam]\n",
       "2           [call, infrastructur, protect, summit]\n",
       "3                      [staff, aust, strike, rise]\n",
       "4             [strike, affect, australian, travel]\n",
       "5               [ambiti, olsson, win, tripl, jump]\n",
       "6           [antic, delight, record, break, barca]\n",
       "7    [aussi, qualifi, stosur, wast, memphi, match]\n",
       "8            [aust, address, secur, council, iraq]\n",
       "9                         [australia, lock, timet]\n",
       "Name: headline_text, dtype: object"
      ]
     },
     "execution_count": 22,
     "metadata": {},
     "output_type": "execute_result"
    }
   ],
   "source": [
    "processed_docs = documents['headline_text'].map(preprocess)\n",
    "processed_docs[:10]"
   ]
  },
  {
   "cell_type": "code",
   "execution_count": 23,
   "metadata": {},
   "outputs": [
    {
     "name": "stdout",
     "output_type": "stream",
     "text": [
      "0 broadcast\n",
      "1 commun\n",
      "2 decid\n",
      "3 licenc\n",
      "4 awar\n",
      "5 defam\n",
      "6 wit\n",
      "7 call\n",
      "8 infrastructur\n",
      "9 protect\n",
      "10 summit\n"
     ]
    }
   ],
   "source": [
    "dictionary = gensim.corpora.Dictionary(processed_docs)\n",
    "count = 0\n",
    "for k, v in dictionary.iteritems():\n",
    "    print(k, v)\n",
    "    count += 1\n",
    "    if count > 10:\n",
    "        break"
   ]
  },
  {
   "cell_type": "code",
   "execution_count": 24,
   "metadata": {},
   "outputs": [],
   "source": [
    "dictionary.filter_extremes(no_below=15, no_above=0.5, keep_n=100000)"
   ]
  },
  {
   "cell_type": "code",
   "execution_count": 25,
   "metadata": {},
   "outputs": [
    {
     "data": {
      "text/plain": [
       "[(76, 1), (112, 1), (484, 1), (4022, 1)]"
      ]
     },
     "execution_count": 25,
     "metadata": {},
     "output_type": "execute_result"
    }
   ],
   "source": [
    "bow_corpus = [dictionary.doc2bow(doc) for doc in processed_docs]\n",
    "bow_corpus[4310]"
   ]
  },
  {
   "cell_type": "code",
   "execution_count": 26,
   "metadata": {},
   "outputs": [
    {
     "name": "stdout",
     "output_type": "stream",
     "text": [
      "Word 76 (\"bushfir\") appears 1 time.\n",
      "Word 112 (\"help\") appears 1 time.\n",
      "Word 484 (\"rain\") appears 1 time.\n",
      "Word 4022 (\"dampen\") appears 1 time.\n"
     ]
    }
   ],
   "source": [
    "#to check bow\n",
    "bow_doc_4310 = bow_corpus[4310]\n",
    "for i in range(len(bow_doc_4310)):\n",
    "    print(\"Word {} (\\\"{}\\\") appears {} time.\".format(bow_doc_4310[i][0], \n",
    "                                               dictionary[bow_doc_4310[i][0]], \n",
    "bow_doc_4310[i][1]))"
   ]
  },
  {
   "cell_type": "code",
   "execution_count": 27,
   "metadata": {},
   "outputs": [],
   "source": [
    "from gensim import corpora, models\n",
    "tfidf = models.TfidfModel(bow_corpus)\n",
    "corpus_tfidf = tfidf[bow_corpus]"
   ]
  },
  {
   "cell_type": "code",
   "execution_count": 28,
   "metadata": {},
   "outputs": [
    {
     "name": "stdout",
     "output_type": "stream",
     "text": [
      "[(0, 0.5903873663261261),\n",
      " (1, 0.38522586675616677),\n",
      " (2, 0.49747840165121515),\n",
      " (3, 0.5055284652272439)]\n"
     ]
    }
   ],
   "source": [
    "from pprint import pprint\n",
    "for doc in corpus_tfidf:\n",
    "    pprint(doc)\n",
    "    break"
   ]
  },
  {
   "cell_type": "code",
   "execution_count": 29,
   "metadata": {},
   "outputs": [],
   "source": [
    "## Running LDA using Bag OF Words\n",
    "lda_model = gensim.models.LdaMulticore(bow_corpus, num_topics=10, id2word=dictionary, passes=2, workers=2)"
   ]
  },
  {
   "cell_type": "code",
   "execution_count": 30,
   "metadata": {},
   "outputs": [
    {
     "name": "stdout",
     "output_type": "stream",
     "text": [
      "Topic: 0 \n",
      "Words: 0.025*\"queensland\" + 0.021*\"adelaid\" + 0.018*\"market\" + 0.016*\"south\" + 0.012*\"share\" + 0.012*\"farmer\" + 0.011*\"victoria\" + 0.011*\"busi\" + 0.010*\"flood\" + 0.010*\"water\"\n",
      "Topic: 1 \n",
      "Words: 0.056*\"australia\" + 0.035*\"trump\" + 0.026*\"world\" + 0.023*\"nation\" + 0.016*\"tasmania\" + 0.013*\"island\" + 0.011*\"polit\" + 0.010*\"take\" + 0.009*\"hobart\" + 0.009*\"drum\"\n",
      "Topic: 2 \n",
      "Words: 0.024*\"plan\" + 0.018*\"council\" + 0.016*\"health\" + 0.016*\"rural\" + 0.014*\"indigen\" + 0.013*\"turnbul\" + 0.013*\"commun\" + 0.013*\"chang\" + 0.013*\"servic\" + 0.011*\"need\"\n",
      "Topic: 3 \n",
      "Words: 0.025*\"kill\" + 0.022*\"attack\" + 0.019*\"famili\" + 0.018*\"donald\" + 0.015*\"fight\" + 0.014*\"dead\" + 0.013*\"crash\" + 0.012*\"vote\" + 0.011*\"victim\" + 0.011*\"senat\"\n",
      "Topic: 4 \n",
      "Words: 0.019*\"melbourn\" + 0.019*\"countri\" + 0.019*\"test\" + 0.018*\"live\" + 0.014*\"gold\" + 0.013*\"life\" + 0.013*\"feder\" + 0.013*\"women\" + 0.012*\"student\" + 0.012*\"tasmanian\"\n",
      "Topic: 5 \n",
      "Words: 0.030*\"elect\" + 0.022*\"canberra\" + 0.018*\"say\" + 0.013*\"worker\" + 0.011*\"royal\" + 0.011*\"port\" + 0.011*\"victorian\" + 0.010*\"john\" + 0.010*\"labor\" + 0.010*\"liber\"\n",
      "Topic: 6 \n",
      "Words: 0.020*\"state\" + 0.018*\"hour\" + 0.017*\"rise\" + 0.015*\"call\" + 0.015*\"govern\" + 0.014*\"protest\" + 0.013*\"abus\" + 0.012*\"budget\" + 0.012*\"news\" + 0.012*\"releas\"\n",
      "Topic: 7 \n",
      "Words: 0.035*\"charg\" + 0.033*\"court\" + 0.025*\"murder\" + 0.023*\"north\" + 0.021*\"face\" + 0.017*\"accus\" + 0.015*\"west\" + 0.014*\"trial\" + 0.013*\"jail\" + 0.012*\"assault\"\n",
      "Topic: 8 \n",
      "Words: 0.054*\"polic\" + 0.020*\"perth\" + 0.018*\"die\" + 0.017*\"interview\" + 0.016*\"miss\" + 0.014*\"arrest\" + 0.013*\"investig\" + 0.013*\"break\" + 0.012*\"death\" + 0.011*\"driver\"\n",
      "Topic: 9 \n",
      "Words: 0.021*\"open\" + 0.020*\"australian\" + 0.016*\"win\" + 0.014*\"time\" + 0.013*\"lose\" + 0.012*\"return\" + 0.011*\"final\" + 0.011*\"lead\" + 0.011*\"game\" + 0.010*\"week\"\n"
     ]
    }
   ],
   "source": [
    "for idx, topic in lda_model.print_topics(-1):\n",
    "    print('Topic: {} \\nWords: {}'.format(idx, topic))"
   ]
  },
  {
   "cell_type": "code",
   "execution_count": 31,
   "metadata": {},
   "outputs": [
    {
     "name": "stdout",
     "output_type": "stream",
     "text": [
      "Topic: 0 Word: 0.017*\"polic\" + 0.016*\"charg\" + 0.015*\"murder\" + 0.012*\"woman\" + 0.012*\"court\" + 0.011*\"death\" + 0.009*\"jail\" + 0.009*\"shoot\" + 0.008*\"assault\" + 0.008*\"search\"\n",
      "Topic: 1 Word: 0.012*\"govern\" + 0.009*\"health\" + 0.008*\"fund\" + 0.006*\"budget\" + 0.006*\"royal\" + 0.006*\"servic\" + 0.006*\"busi\" + 0.006*\"minist\" + 0.006*\"commiss\" + 0.005*\"christma\"\n",
      "Topic: 2 Word: 0.015*\"rural\" + 0.014*\"south\" + 0.013*\"coast\" + 0.012*\"north\" + 0.012*\"west\" + 0.010*\"gold\" + 0.010*\"donald\" + 0.007*\"news\" + 0.007*\"marriag\" + 0.007*\"korea\"\n",
      "Topic: 3 Word: 0.008*\"monday\" + 0.007*\"abbott\" + 0.006*\"terror\" + 0.006*\"polic\" + 0.006*\"crop\" + 0.005*\"drive\" + 0.005*\"social\" + 0.005*\"dairi\" + 0.005*\"onlin\" + 0.005*\"grain\"\n",
      "Topic: 4 Word: 0.010*\"street\" + 0.009*\"michael\" + 0.008*\"octob\" + 0.008*\"cyclon\" + 0.008*\"wall\" + 0.007*\"teenag\" + 0.006*\"wild\" + 0.006*\"anim\" + 0.006*\"human\" + 0.005*\"smith\"\n",
      "Topic: 5 Word: 0.011*\"leagu\" + 0.010*\"turnbul\" + 0.009*\"final\" + 0.007*\"world\" + 0.007*\"rugbi\" + 0.006*\"decemb\" + 0.006*\"domest\" + 0.006*\"malcolm\" + 0.005*\"histori\" + 0.005*\"open\"\n",
      "Topic: 6 Word: 0.010*\"sport\" + 0.008*\"hobart\" + 0.008*\"climat\" + 0.007*\"hill\" + 0.007*\"septemb\" + 0.007*\"pacif\" + 0.006*\"june\" + 0.006*\"toni\" + 0.006*\"chang\" + 0.006*\"water\"\n",
      "Topic: 7 Word: 0.023*\"countri\" + 0.021*\"hour\" + 0.014*\"market\" + 0.011*\"podcast\" + 0.011*\"price\" + 0.010*\"share\" + 0.007*\"dollar\" + 0.007*\"australian\" + 0.007*\"novemb\" + 0.007*\"queensland\"\n",
      "Topic: 8 Word: 0.012*\"elect\" + 0.011*\"drum\" + 0.008*\"australia\" + 0.007*\"labor\" + 0.007*\"ash\" + 0.006*\"tuesday\" + 0.006*\"test\" + 0.006*\"parti\" + 0.006*\"state\" + 0.006*\"polit\"\n",
      "Topic: 9 Word: 0.021*\"trump\" + 0.019*\"interview\" + 0.011*\"kill\" + 0.009*\"weather\" + 0.008*\"crash\" + 0.008*\"die\" + 0.007*\"david\" + 0.007*\"dead\" + 0.006*\"asylum\" + 0.005*\"truck\"\n"
     ]
    }
   ],
   "source": [
    "## Running LDA using TF-IDF\n",
    "lda_model_tfidf = gensim.models.LdaMulticore(corpus_tfidf, num_topics=10, id2word=dictionary, passes=2, workers=4)\n",
    "for idx, topic in lda_model_tfidf.print_topics(-1):\n",
    "    print('Topic: {} Word: {}'.format(idx, topic))"
   ]
  },
  {
   "cell_type": "code",
   "execution_count": 32,
   "metadata": {},
   "outputs": [
    {
     "name": "stdout",
     "output_type": "stream",
     "text": [
      "Score: 0.6999134421348572\t Topic: 0.025*\"kill\" + 0.022*\"attack\" + 0.019*\"famili\" + 0.018*\"donald\" + 0.015*\"fight\"\n",
      "Score: 0.03334446996450424\t Topic: 0.054*\"polic\" + 0.020*\"perth\" + 0.018*\"die\" + 0.017*\"interview\" + 0.016*\"miss\"\n",
      "Score: 0.033342763781547546\t Topic: 0.025*\"queensland\" + 0.021*\"adelaid\" + 0.018*\"market\" + 0.016*\"south\" + 0.012*\"share\"\n",
      "Score: 0.033342763781547546\t Topic: 0.056*\"australia\" + 0.035*\"trump\" + 0.026*\"world\" + 0.023*\"nation\" + 0.016*\"tasmania\"\n",
      "Score: 0.033342763781547546\t Topic: 0.024*\"plan\" + 0.018*\"council\" + 0.016*\"health\" + 0.016*\"rural\" + 0.014*\"indigen\"\n",
      "Score: 0.033342763781547546\t Topic: 0.019*\"melbourn\" + 0.019*\"countri\" + 0.019*\"test\" + 0.018*\"live\" + 0.014*\"gold\"\n",
      "Score: 0.033342763781547546\t Topic: 0.030*\"elect\" + 0.022*\"canberra\" + 0.018*\"say\" + 0.013*\"worker\" + 0.011*\"royal\"\n",
      "Score: 0.033342763781547546\t Topic: 0.020*\"state\" + 0.018*\"hour\" + 0.017*\"rise\" + 0.015*\"call\" + 0.015*\"govern\"\n",
      "Score: 0.033342763781547546\t Topic: 0.035*\"charg\" + 0.033*\"court\" + 0.025*\"murder\" + 0.023*\"north\" + 0.021*\"face\"\n",
      "Score: 0.033342763781547546\t Topic: 0.021*\"open\" + 0.020*\"australian\" + 0.016*\"win\" + 0.014*\"time\" + 0.013*\"lose\"\n"
     ]
    }
   ],
   "source": [
    "#testing\n",
    "unseen_document = 'There was a attack in Mumbai'\n",
    "bow_vector = dictionary.doc2bow(preprocess(unseen_document))\n",
    "for index, score in sorted(lda_model[bow_vector], key=lambda tup: -1*tup[1]):\n",
    "    print(\"Score: {}\\t Topic: {}\".format(score, lda_model.print_topic(index, 5)))"
   ]
  },
  {
   "cell_type": "code",
   "execution_count": null,
   "metadata": {},
   "outputs": [],
   "source": []
  }
 ],
 "metadata": {
  "kernelspec": {
   "display_name": "Python 3",
   "language": "python",
   "name": "python3"
  },
  "language_info": {
   "codemirror_mode": {
    "name": "ipython",
    "version": 3
   },
   "file_extension": ".py",
   "mimetype": "text/x-python",
   "name": "python",
   "nbconvert_exporter": "python",
   "pygments_lexer": "ipython3",
   "version": "3.7.1"
  }
 },
 "nbformat": 4,
 "nbformat_minor": 2
}
